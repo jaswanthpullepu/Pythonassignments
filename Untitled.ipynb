{
 "cells": [
  {
   "cell_type": "code",
   "execution_count": 1,
   "id": "administrative-cornwall",
   "metadata": {},
   "outputs": [
    {
     "name": "stdout",
     "output_type": "stream",
     "text": [
      "Hello\n"
     ]
    }
   ],
   "source": [
    "## lambda expression to extract first word of a string\n",
    "\n",
    "s=\"Hello world\"\n",
    "res=lambda s:s.split(\" \")[0]\n",
    "print(res(s))"
   ]
  },
  {
   "cell_type": "code",
   "execution_count": 3,
   "id": "spanish-senegal",
   "metadata": {},
   "outputs": [
    {
     "name": "stdout",
     "output_type": "stream",
     "text": [
      "Regex\n"
     ]
    }
   ],
   "source": [
    "##a function to extract first word of s string (with many words separated by space).\n",
    "\n",
    "def extract(s):\n",
    "    return s.split()[0]\n",
    "s=\"Regex Software Solutions\"\n",
    "print(extract(s))\n"
   ]
  },
  {
   "cell_type": "code",
   "execution_count": 4,
   "id": "arctic-plasma",
   "metadata": {},
   "outputs": [
    {
     "name": "stdout",
     "output_type": "stream",
     "text": [
      "Hello how stay\n"
     ]
    }
   ],
   "source": [
    "##Extract the first word from every string from a list of strings by using map function\n",
    "\n",
    "l=[\"Hello world \",\"how are you\",\"stay home stay safe\"]\n",
    "res=list(map(lambda s:s.split(\" \")[0],l))\n",
    "print(*res)"
   ]
  },
  {
   "cell_type": "code",
   "execution_count": 7,
   "id": "liable-vietnamese",
   "metadata": {},
   "outputs": [
    {
     "name": "stdout",
     "output_type": "stream",
     "text": [
      "[2, 5]\n"
     ]
    }
   ],
   "source": [
    "##function to return a list of prime factors of a given number.\n",
    "\n",
    "def prime_factors(n):\n",
    "    l1=[]\n",
    "    for i in range(2,int(n**0.5)+1):\n",
    "        if n%i==0:\n",
    "            l1.append(i)\n",
    "    l2=[]\n",
    "    for j in range(len(l1)):\n",
    "        for k in range(2,int(l1[j]**0.5)+1):\n",
    "            if( l1[j]%k==0):\n",
    "                break\n",
    "        else:\n",
    "            l2.append(l1[j])\n",
    "    return l2\n",
    "res=prime_factors(200)\n",
    "print(res)\n"
   ]
  },
  {
   "cell_type": "code",
   "execution_count": 3,
   "id": "handmade-environment",
   "metadata": {},
   "outputs": [
    {
     "name": "stdout",
     "output_type": "stream",
     "text": [
      " Give only four numbers : 2 5 8 9\n",
      "8\n"
     ]
    }
   ],
   "source": [
    "#function that finds 2nd largest among 4 numbers (Repetitions are allowed,without sorting).\n",
    "\n",
    "\n",
    "l=list(map(int,input(\" Give only four numbers : \").split()))\n",
    "max=0\n",
    "count=0\n",
    "for i in range(1,len(l)+1):\n",
    "    if (l[i]>=l[i-1]):\n",
    "        max=l[i]\n",
    "        count+=1\n",
    "    if(count==2):\n",
    "        break\n",
    "print(max)"
   ]
  },
  {
   "cell_type": "code",
   "execution_count": null,
   "id": "patient-progress",
   "metadata": {},
   "outputs": [],
   "source": []
  }
 ],
 "metadata": {
  "kernelspec": {
   "display_name": "Python 3",
   "language": "python",
   "name": "python3"
  },
  "language_info": {
   "codemirror_mode": {
    "name": "ipython",
    "version": 3
   },
   "file_extension": ".py",
   "mimetype": "text/x-python",
   "name": "python",
   "nbconvert_exporter": "python",
   "pygments_lexer": "ipython3",
   "version": "3.6.13"
  }
 },
 "nbformat": 4,
 "nbformat_minor": 5
}
