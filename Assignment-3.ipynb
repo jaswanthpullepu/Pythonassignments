{
 "cells": [
  {
   "cell_type": "markdown",
   "id": "reserved-recorder",
   "metadata": {},
   "source": [
    "## Q1. Write a function to return nth term of Fibonacci sequence"
   ]
  },
  {
   "cell_type": "code",
   "execution_count": 1,
   "id": "olympic-bearing",
   "metadata": {},
   "outputs": [
    {
     "name": "stdout",
     "output_type": "stream",
     "text": [
      "Enter a Number : 5\n",
      "0 1 1 2 3 "
     ]
    }
   ],
   "source": [
    "def Fibonacci(j) :\n",
    "    if j <= 1 :\n",
    "        return j\n",
    "    else : \n",
    "        return (Fibonacci(j-1) + Fibonacci(j-2))\n",
    "    \n",
    "N = int(input(\"Enter a Number : \"))\n",
    "\n",
    "if N < 0 :\n",
    "    print(\"Please Enter Positive Number \")\n",
    "else :\n",
    "    for i in range(N) :\n",
    "        print(Fibonacci(i), end = \" \")"
   ]
  },
  {
   "cell_type": "markdown",
   "id": "controversial-scottish",
   "metadata": {},
   "source": [
    "## Q2. Write a function to find out GCD of two numbers using EUCLID'S algorithm"
   ]
  },
  {
   "cell_type": "code",
   "execution_count": 4,
   "id": "laden-violence",
   "metadata": {},
   "outputs": [
    {
     "name": "stdout",
     "output_type": "stream",
     "text": [
      "Enter first Number : 25\n",
      "Enter second Number : 16\n",
      "GCD of (25,16) =  1\n"
     ]
    }
   ],
   "source": [
    "i1 = int(input(\"Enter first Number : \"))\n",
    "i2 = int(input(\"Enter second Number : \"))\n",
    "def gcd(N1, N2) :\n",
    "    if N2 == 0 :\n",
    "        return N1\n",
    "    else :\n",
    "        return gcd(N2, N1 % N2)\n",
    "        \n",
    "print(f\"GCD of ({i1},{i2}) = \", gcd(i1, i2))"
   ]
  },
  {
   "cell_type": "markdown",
   "id": "nominated-trace",
   "metadata": {},
   "source": [
    "## Q3. Write a function to find LCM of two number in most optimizers way"
   ]
  },
  {
   "cell_type": "code",
   "execution_count": 3,
   "id": "unlimited-somewhere",
   "metadata": {},
   "outputs": [
    {
     "name": "stdout",
     "output_type": "stream",
     "text": [
      "Enter first Number : 98\n",
      "Enter second Number : 23\n",
      "LCM of (98,23) =  2254.0\n"
     ]
    }
   ],
   "source": [
    "i1 = int(input(\"Enter first Number : \"))\n",
    "i2 = int(input(\"Enter second Number : \"))\n",
    "def gcd(N1, N2) :\n",
    "    if N2 == 0 :\n",
    "        return N1\n",
    "    else :\n",
    "        return gcd(N2, N1 % N2)\n",
    "    \n",
    "def lcm(N1, N2) :\n",
    "    return (N1 / gcd(N1,N2)) * N2\n",
    "\n",
    "print(f\"LCM of ({i1},{i2}) = \", lcm(i1, i2))"
   ]
  },
  {
   "cell_type": "code",
   "execution_count": null,
   "id": "familiar-passion",
   "metadata": {},
   "outputs": [],
   "source": []
  }
 ],
 "metadata": {
  "kernelspec": {
   "display_name": "Python 3",
   "language": "python",
   "name": "python3"
  },
  "language_info": {
   "codemirror_mode": {
    "name": "ipython",
    "version": 3
   },
   "file_extension": ".py",
   "mimetype": "text/x-python",
   "name": "python",
   "nbconvert_exporter": "python",
   "pygments_lexer": "ipython3",
   "version": "3.6.13"
  }
 },
 "nbformat": 4,
 "nbformat_minor": 5
}
