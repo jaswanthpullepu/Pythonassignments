{
 "cells": [
  {
   "cell_type": "markdown",
   "id": "hired-parish",
   "metadata": {},
   "source": [
    "## Q1. Given a list of integers, write a function to return the sum of all prime numbers in that list."
   ]
  },
  {
   "cell_type": "code",
   "execution_count": 5,
   "id": "plain-demand",
   "metadata": {},
   "outputs": [],
   "source": [
    "import math\n",
    "def prime(n):\n",
    "    if n == 0 or n == 1:\n",
    "        return False\n",
    "    else:\n",
    "        for i in range(2, int(n**0.5)+1):\n",
    "            if n%i == 0:\n",
    "                return False\n",
    "                break\n",
    "        else:\n",
    "            return True\n",
    "            \n",
    "def sum_prime(ls):\n",
    "    sum_of_primes=0\n",
    "    for i in ls:\n",
    "        if prime(i):\n",
    "            sum_of_primes += i\n",
    "    return sum_of_primes"
   ]
  },
  {
   "cell_type": "code",
   "execution_count": 4,
   "id": "sporting-smart",
   "metadata": {},
   "outputs": [
    {
     "name": "stdout",
     "output_type": "stream",
     "text": [
      "11\n",
      "13\n",
      "17\n"
     ]
    },
    {
     "data": {
      "text/plain": [
       "41"
      ]
     },
     "execution_count": 4,
     "metadata": {},
     "output_type": "execute_result"
    }
   ],
   "source": [
    "sum_prime([1,11,12,13,14,15,16,17])"
   ]
  },
  {
   "cell_type": "markdown",
   "id": "scenic-beach",
   "metadata": {},
   "source": [
    "## Q2. Given a list of integers, write a function to check whether the list is strictly increasing or not."
   ]
  },
  {
   "cell_type": "code",
   "execution_count": 6,
   "id": "turned-strain",
   "metadata": {},
   "outputs": [],
   "source": [
    "def increasing(ls):\n",
    "    for i in range(1,len(ls)):\n",
    "        if ls[i] < ls[i-1]:\n",
    "            return False\n",
    "    return True"
   ]
  },
  {
   "cell_type": "code",
   "execution_count": 7,
   "id": "guilty-acrobat",
   "metadata": {},
   "outputs": [
    {
     "data": {
      "text/plain": [
       "False"
      ]
     },
     "execution_count": 7,
     "metadata": {},
     "output_type": "execute_result"
    }
   ],
   "source": [
    "increasing([22,33,42,64,5,72])"
   ]
  },
  {
   "cell_type": "markdown",
   "id": "thorough-probability",
   "metadata": {},
   "source": [
    "## Q3. Write a function to check whether a given list is expanding or not (the difference between adjacent elements should keep on increasing)."
   ]
  },
  {
   "cell_type": "code",
   "execution_count": 8,
   "id": "obvious-swing",
   "metadata": {},
   "outputs": [],
   "source": [
    "def expanding(l):\n",
    "    d1 = abs(l[1] - l[0])\n",
    "    d2 = abs(l[2] - l[1])\n",
    "    \n",
    "    if d1 >= d2:\n",
    "        return False\n",
    "    \n",
    "    else:\n",
    "        for i in range(3,len(l)):\n",
    "            d3 = abs(l[i] - l[i-1])\n",
    "            if d3 <= d2:\n",
    "                return False\n",
    "            d2 = d3\n",
    "        else:\n",
    "            return True"
   ]
  },
  {
   "cell_type": "code",
   "execution_count": 11,
   "id": "seven-fifth",
   "metadata": {},
   "outputs": [
    {
     "data": {
      "text/plain": [
       "False"
      ]
     },
     "execution_count": 11,
     "metadata": {},
     "output_type": "execute_result"
    }
   ],
   "source": [
    "expanding([1,6,9,8,13])"
   ]
  },
  {
   "cell_type": "markdown",
   "id": "vital-islam",
   "metadata": {},
   "source": [
    "## Q4. Write a function to calculate all permutations of a given string. (Without using itertools)"
   ]
  },
  {
   "cell_type": "code",
   "execution_count": 12,
   "id": "overall-republican",
   "metadata": {},
   "outputs": [
    {
     "name": "stdout",
     "output_type": "stream",
     "text": [
      "Enter the word : pqrs\n",
      "Permutations of given string  pqrs are :\n",
      "pqrs\n",
      "pqsr\n",
      "prqs\n",
      "prsq\n",
      "psrq\n",
      "psqr\n",
      "qprs\n",
      "qpsr\n",
      "qrps\n",
      "qrsp\n",
      "qsrp\n",
      "qspr\n",
      "rqps\n",
      "rqsp\n",
      "rpqs\n",
      "rpsq\n",
      "rspq\n",
      "rsqp\n",
      "sqrp\n",
      "sqpr\n",
      "srqp\n",
      "srpq\n",
      "sprq\n",
      "spqr\n"
     ]
    }
   ],
   "source": [
    "def toString(lst):\n",
    "    return ''.join(lst)\n",
    "def permute(a, l, r):\n",
    "    if l==r:\n",
    "        print(toString(a))\n",
    "    else:\n",
    "        for i in range(l,r+1):\n",
    "            a[l], a[i] = a[i], a[l]\n",
    "            permute(a, l+1, r)\n",
    "            a[l], a[i] = a[i], a[l] \n",
    "\n",
    "if __name__=='__main__':\n",
    "    string = input(\"Enter the word : \")\n",
    "    n = len(string)\n",
    "    a = list(string)\n",
    "    print('Permutations of given string  '+string+' are :')\n",
    "    permute(a, 0, n-1)"
   ]
  },
  {
   "cell_type": "code",
   "execution_count": null,
   "id": "seventh-carpet",
   "metadata": {},
   "outputs": [],
   "source": []
  }
 ],
 "metadata": {
  "kernelspec": {
   "display_name": "Python 3",
   "language": "python",
   "name": "python3"
  },
  "language_info": {
   "codemirror_mode": {
    "name": "ipython",
    "version": 3
   },
   "file_extension": ".py",
   "mimetype": "text/x-python",
   "name": "python",
   "nbconvert_exporter": "python",
   "pygments_lexer": "ipython3",
   "version": "3.6.13"
  }
 },
 "nbformat": 4,
 "nbformat_minor": 5
}
